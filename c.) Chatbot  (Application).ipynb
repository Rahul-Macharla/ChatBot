{
 "cells": [
  {
   "cell_type": "code",
   "execution_count": 1,
   "metadata": {},
   "outputs": [],
   "source": [
    "import pandas as pd\n",
    "import numpy as np\n",
    "import nlp_utils as nu"
   ]
  },
  {
   "cell_type": "code",
   "execution_count": 2,
   "metadata": {},
   "outputs": [],
   "source": [
    "import pickle"
   ]
  },
  {
   "cell_type": "code",
   "execution_count": 3,
   "metadata": {},
   "outputs": [],
   "source": [
    "tfid = pickle.load(open('tfidf.pickle','rb'))"
   ]
  },
  {
   "cell_type": "code",
   "execution_count": 4,
   "metadata": {},
   "outputs": [],
   "source": [
    "# load the numpy zip\n",
    "data = np.load('factors.npz')"
   ]
  },
  {
   "cell_type": "code",
   "execution_count": 5,
   "metadata": {},
   "outputs": [],
   "source": [
    "# restoring array\n",
    "factors = data['arr_0']"
   ]
  },
  {
   "cell_type": "code",
   "execution_count": 6,
   "metadata": {},
   "outputs": [
    {
     "data": {
      "text/plain": [
       "TfidfVectorizer()"
      ]
     },
     "execution_count": 6,
     "metadata": {},
     "output_type": "execute_result"
    }
   ],
   "source": [
    "tfid"
   ]
  },
  {
   "cell_type": "code",
   "execution_count": 7,
   "metadata": {},
   "outputs": [],
   "source": [
    "df=pd.read_csv('Tf-Idf.csv',names=('Context','Response'))"
   ]
  },
  {
   "cell_type": "code",
   "execution_count": 8,
   "metadata": {},
   "outputs": [],
   "source": [
    "df = df.astype(str)"
   ]
  },
  {
   "cell_type": "code",
   "execution_count": 9,
   "metadata": {},
   "outputs": [
    {
     "data": {
      "text/html": [
       "<div>\n",
       "<style scoped>\n",
       "    .dataframe tbody tr th:only-of-type {\n",
       "        vertical-align: middle;\n",
       "    }\n",
       "\n",
       "    .dataframe tbody tr th {\n",
       "        vertical-align: top;\n",
       "    }\n",
       "\n",
       "    .dataframe thead th {\n",
       "        text-align: right;\n",
       "    }\n",
       "</style>\n",
       "<table border=\"1\" class=\"dataframe\">\n",
       "  <thead>\n",
       "    <tr style=\"text-align: right;\">\n",
       "      <th></th>\n",
       "      <th>Context</th>\n",
       "      <th>Response</th>\n",
       "    </tr>\n",
       "  </thead>\n",
       "  <tbody>\n",
       "    <tr>\n",
       "      <td>0</td>\n",
       "      <td>reminder notification t emoticon t blank remin...</td>\n",
       "      <td>nan</td>\n",
       "    </tr>\n",
       "    <tr>\n",
       "      <td>1</td>\n",
       "      <td>reminder notification t emoticon</td>\n",
       "      <td>blank</td>\n",
       "    </tr>\n",
       "    <tr>\n",
       "      <td>2</td>\n",
       "      <td>remind me to buy a refill at time todau</td>\n",
       "      <td>for sure  name  what date would you like me to...</td>\n",
       "    </tr>\n",
       "    <tr>\n",
       "      <td>3</td>\n",
       "      <td>hi i want to set a reminder to drink water t b...</td>\n",
       "      <td>sure  name  i just need to know how frequently...</td>\n",
       "    </tr>\n",
       "    <tr>\n",
       "      <td>4</td>\n",
       "      <td>hi i want to set a reminder to drink water t b...</td>\n",
       "      <td>sure  name  i just need to know how frequently...</td>\n",
       "    </tr>\n",
       "  </tbody>\n",
       "</table>\n",
       "</div>"
      ],
      "text/plain": [
       "                                             Context  \\\n",
       "0  reminder notification t emoticon t blank remin...   \n",
       "1                   reminder notification t emoticon   \n",
       "2            remind me to buy a refill at time todau   \n",
       "3  hi i want to set a reminder to drink water t b...   \n",
       "4  hi i want to set a reminder to drink water t b...   \n",
       "\n",
       "                                            Response  \n",
       "0                                                nan  \n",
       "1                                             blank   \n",
       "2  for sure  name  what date would you like me to...  \n",
       "3  sure  name  i just need to know how frequently...  \n",
       "4  sure  name  i just need to know how frequently...  "
      ]
     },
     "execution_count": 9,
     "metadata": {},
     "output_type": "execute_result"
    }
   ],
   "source": [
    "df.head()"
   ]
  },
  {
   "cell_type": "markdown",
   "metadata": {},
   "source": [
    "# Application"
   ]
  },
  {
   "cell_type": "code",
   "execution_count": 10,
   "metadata": {},
   "outputs": [],
   "source": [
    "from sklearn.metrics.pairwise import cosine_distances"
   ]
  },
  {
   "cell_type": "code",
   "execution_count": 11,
   "metadata": {},
   "outputs": [],
   "source": [
    "query = 'who are you ?'\n",
    "def chatbot(query):\n",
    "    # step:-1 clean\n",
    "    query = nu.lemmatization_sentence(query)\n",
    "    # step:-2 word embedding - transform\n",
    "    query_vector = tfid.transform([query]).toarray()\n",
    "    # step-3: cosine similarity\n",
    "    similar_score = 1 -cosine_distances(factors,query_vector)\n",
    "    index = similar_score.argmax() # take max index position\n",
    "    # searching or matching question\n",
    "    mathing_question = df.loc[index]['Context']\n",
    "    response = df.loc[index]['Response']\n",
    "    confidence = similar_score[index][0]\n",
    "    chat_dict = {'match':mathing_question,\n",
    "                'response':response,\n",
    "                'score':confidence}\n",
    "    return chat_dict"
   ]
  },
  {
   "cell_type": "code",
   "execution_count": 12,
   "metadata": {},
   "outputs": [
    {
     "name": "stdout",
     "output_type": "stream",
     "text": [
      "USER: hello\n",
      "Innomatics: Sorry!!! I can\"t understand your question please rephrase your question\n",
      "USER: can you wake me up at 8 tomorrow morning\n",
      "================================================================================\n",
      "logs:\n",
      " Matched Question: 'wake me up at time morning'\n",
      " Confidence Score: 91.94\n",
      "================================================================================\n",
      "Innomatics:  for sure  name  would you like me to wake you up  date  or on some other date\n",
      "USER: wake me on 23\n",
      "================================================================================\n",
      "logs:\n",
      " Matched Question: 'hi please wake me on time'\n",
      " Confidence Score: 69.44\n",
      "================================================================================\n",
      "Innomatics:  for sure  name  would you like me to wake you up  date  or on some other date\n",
      "USER: yes wake me up on 21 january\n",
      "================================================================================\n",
      "logs:\n",
      " Matched Question: 'yes'\n",
      " Confidence Score: 69.75\n",
      "================================================================================\n",
      "Innomatics:  have a wonderful day ahead        sure  name  i just need to know how frequently i should remind you         chatform 65 \n",
      "USER: remind me every 20 minutes\n",
      "================================================================================\n",
      "logs:\n",
      " Matched Question: 'hey can you send me regular reminder to drink water t sure name i just need to know how frequently i should remind you chatform 65 t every hour'\n",
      " Confidence Score: 32.39\n",
      "================================================================================\n",
      "Innomatics:   reminder interim          api call remind water \n",
      "USER: thank you\n",
      "================================================================================\n",
      "logs:\n",
      " Matched Question: 'thank you'\n",
      " Confidence Score: 100.00\n",
      "================================================================================\n",
      "Innomatics:  welcome\n",
      "USER: exit\n"
     ]
    }
   ],
   "source": [
    "while True:\n",
    "    query = input('USER: ')\n",
    "    if query == 'exit':\n",
    "        break\n",
    "        \n",
    "    response = chatbot(query)\n",
    "    if response['score'] <= 0.2: # \n",
    "        print('Innomatics: Sorry!!! I can\"t understand your question please rephrase your question')\n",
    "    \n",
    "    else:\n",
    "        print('='*80)\n",
    "        print('logs:\\n Matched Question: %r\\n Confidence Score: %0.2f'%(\n",
    "            response['match'],response['score']*100))\n",
    "        print('='*80)\n",
    "        print('Innomatics: ',response['response'])"
   ]
  }
 ],
 "metadata": {
  "kernelspec": {
   "display_name": "Python 3",
   "language": "python",
   "name": "python3"
  },
  "language_info": {
   "codemirror_mode": {
    "name": "ipython",
    "version": 3
   },
   "file_extension": ".py",
   "mimetype": "text/x-python",
   "name": "python",
   "nbconvert_exporter": "python",
   "pygments_lexer": "ipython3",
   "version": "3.7.4"
  }
 },
 "nbformat": 4,
 "nbformat_minor": 2
}
